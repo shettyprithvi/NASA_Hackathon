{
 "cells": [
  {
   "cell_type": "code",
   "execution_count": 2,
   "metadata": {},
   "outputs": [],
   "source": [
    "import pandas as pd\n",
    "from IPython.core.interactiveshell import InteractiveShell\n",
    "InteractiveShell.ast_node_interactivity=\"all\"\n",
    "import numpy as np"
   ]
  },
  {
   "cell_type": "markdown",
   "metadata": {},
   "source": [
    "### Cleaning values"
   ]
  },
  {
   "cell_type": "code",
   "execution_count": 3,
   "metadata": {},
   "outputs": [],
   "source": [
    "import matplotlib.pyplot as plt\n",
    "%matplotlib inline"
   ]
  },
  {
   "cell_type": "code",
   "execution_count": 6,
   "metadata": {},
   "outputs": [
    {
     "data": {
      "text/html": [
       "<div>\n",
       "<style scoped>\n",
       "    .dataframe tbody tr th:only-of-type {\n",
       "        vertical-align: middle;\n",
       "    }\n",
       "\n",
       "    .dataframe tbody tr th {\n",
       "        vertical-align: top;\n",
       "    }\n",
       "\n",
       "    .dataframe thead th {\n",
       "        text-align: right;\n",
       "    }\n",
       "</style>\n",
       "<table border=\"1\" class=\"dataframe\">\n",
       "  <thead>\n",
       "    <tr style=\"text-align: right;\">\n",
       "      <th></th>\n",
       "      <th>org_name</th>\n",
       "      <th>site_name</th>\n",
       "      <th>latitude</th>\n",
       "      <th>longitude</th>\n",
       "      <th>elevation</th>\n",
       "      <th>measured_on</th>\n",
       "      <th>air temp monthlies:averaged month</th>\n",
       "      <th>air temp monthlies:number of days reported</th>\n",
       "      <th>air temp monthlies:number of obs</th>\n",
       "      <th>air temp monthlies:maximum temp (deg C)</th>\n",
       "      <th>...</th>\n",
       "      <th>dissolved oxygens:measured at</th>\n",
       "      <th>dissolved oxygens:water body state</th>\n",
       "      <th>dissolved oxygens:dissolved oxygen via kit (mgl)</th>\n",
       "      <th>dissolved oxygens:dissolved oxygen via probe (mgl)</th>\n",
       "      <th>dissolved oxygens:salinity via dokit (ppt)</th>\n",
       "      <th>dissolved oxygens:oxygen kit mfg</th>\n",
       "      <th>dissolved oxygens:oxygen kit model</th>\n",
       "      <th>dissolved oxygens:oxygen probe mfg</th>\n",
       "      <th>dissolved oxygens:oxygen probe model</th>\n",
       "      <th>dissolved oxygens:comments</th>\n",
       "    </tr>\n",
       "  </thead>\n",
       "  <tbody>\n",
       "    <tr>\n",
       "      <th>0</th>\n",
       "      <td>Blue Heron Middle School</td>\n",
       "      <td>School Location:BIO-01</td>\n",
       "      <td>48.1172</td>\n",
       "      <td>-122.7592</td>\n",
       "      <td>32.0</td>\n",
       "      <td>1997-03-06</td>\n",
       "      <td>NaN</td>\n",
       "      <td>NaN</td>\n",
       "      <td>NaN</td>\n",
       "      <td>NaN</td>\n",
       "      <td>...</td>\n",
       "      <td>NaN</td>\n",
       "      <td>NaN</td>\n",
       "      <td>NaN</td>\n",
       "      <td>NaN</td>\n",
       "      <td>NaN</td>\n",
       "      <td>NaN</td>\n",
       "      <td>NaN</td>\n",
       "      <td>NaN</td>\n",
       "      <td>NaN</td>\n",
       "      <td>NaN</td>\n",
       "    </tr>\n",
       "    <tr>\n",
       "      <th>1</th>\n",
       "      <td>Chief Kamiakin School</td>\n",
       "      <td>School Location:ATM-01</td>\n",
       "      <td>46.3165</td>\n",
       "      <td>-119.9953</td>\n",
       "      <td>243.0</td>\n",
       "      <td>2000-10-01</td>\n",
       "      <td>2000-10-01</td>\n",
       "      <td>31.0</td>\n",
       "      <td>31.0</td>\n",
       "      <td>35.0</td>\n",
       "      <td>...</td>\n",
       "      <td>NaN</td>\n",
       "      <td>NaN</td>\n",
       "      <td>NaN</td>\n",
       "      <td>NaN</td>\n",
       "      <td>NaN</td>\n",
       "      <td>NaN</td>\n",
       "      <td>NaN</td>\n",
       "      <td>NaN</td>\n",
       "      <td>NaN</td>\n",
       "      <td>NaN</td>\n",
       "    </tr>\n",
       "    <tr>\n",
       "      <th>2</th>\n",
       "      <td>Chief Kamiakin School</td>\n",
       "      <td>School Location:ATM-01</td>\n",
       "      <td>46.3165</td>\n",
       "      <td>-119.9953</td>\n",
       "      <td>243.0</td>\n",
       "      <td>2000-11-01</td>\n",
       "      <td>2000-11-01</td>\n",
       "      <td>28.0</td>\n",
       "      <td>28.0</td>\n",
       "      <td>18.0</td>\n",
       "      <td>...</td>\n",
       "      <td>NaN</td>\n",
       "      <td>NaN</td>\n",
       "      <td>NaN</td>\n",
       "      <td>NaN</td>\n",
       "      <td>NaN</td>\n",
       "      <td>NaN</td>\n",
       "      <td>NaN</td>\n",
       "      <td>NaN</td>\n",
       "      <td>NaN</td>\n",
       "      <td>NaN</td>\n",
       "    </tr>\n",
       "    <tr>\n",
       "      <th>3</th>\n",
       "      <td>Chief Kamiakin School</td>\n",
       "      <td>School Location:ATM-01</td>\n",
       "      <td>46.3165</td>\n",
       "      <td>-119.9953</td>\n",
       "      <td>243.0</td>\n",
       "      <td>2001-02-01</td>\n",
       "      <td>2001-02-01</td>\n",
       "      <td>23.0</td>\n",
       "      <td>23.0</td>\n",
       "      <td>20.0</td>\n",
       "      <td>...</td>\n",
       "      <td>NaN</td>\n",
       "      <td>NaN</td>\n",
       "      <td>NaN</td>\n",
       "      <td>NaN</td>\n",
       "      <td>NaN</td>\n",
       "      <td>NaN</td>\n",
       "      <td>NaN</td>\n",
       "      <td>NaN</td>\n",
       "      <td>NaN</td>\n",
       "      <td>NaN</td>\n",
       "    </tr>\n",
       "    <tr>\n",
       "      <th>4</th>\n",
       "      <td>Chief Kamiakin School</td>\n",
       "      <td>School Location:ATM-01</td>\n",
       "      <td>46.3165</td>\n",
       "      <td>-119.9953</td>\n",
       "      <td>243.0</td>\n",
       "      <td>2001-05-01</td>\n",
       "      <td>2001-05-01</td>\n",
       "      <td>25.0</td>\n",
       "      <td>25.0</td>\n",
       "      <td>42.0</td>\n",
       "      <td>...</td>\n",
       "      <td>NaN</td>\n",
       "      <td>NaN</td>\n",
       "      <td>NaN</td>\n",
       "      <td>NaN</td>\n",
       "      <td>NaN</td>\n",
       "      <td>NaN</td>\n",
       "      <td>NaN</td>\n",
       "      <td>NaN</td>\n",
       "      <td>NaN</td>\n",
       "      <td>NaN</td>\n",
       "    </tr>\n",
       "  </tbody>\n",
       "</table>\n",
       "<p>5 rows × 71 columns</p>\n",
       "</div>"
      ],
      "text/plain": [
       "                   org_name               site_name   latitude   longitude  \\\n",
       "0  Blue Heron Middle School  School Location:BIO-01    48.1172   -122.7592   \n",
       "1     Chief Kamiakin School  School Location:ATM-01    46.3165   -119.9953   \n",
       "2     Chief Kamiakin School  School Location:ATM-01    46.3165   -119.9953   \n",
       "3     Chief Kamiakin School  School Location:ATM-01    46.3165   -119.9953   \n",
       "4     Chief Kamiakin School  School Location:ATM-01    46.3165   -119.9953   \n",
       "\n",
       "    elevation  measured_on  air temp monthlies:averaged month  \\\n",
       "0        32.0   1997-03-06                                NaN   \n",
       "1       243.0   2000-10-01                         2000-10-01   \n",
       "2       243.0   2000-11-01                         2000-11-01   \n",
       "3       243.0   2001-02-01                         2001-02-01   \n",
       "4       243.0   2001-05-01                         2001-05-01   \n",
       "\n",
       "   air temp monthlies:number of days reported  \\\n",
       "0                                         NaN   \n",
       "1                                        31.0   \n",
       "2                                        28.0   \n",
       "3                                        23.0   \n",
       "4                                        25.0   \n",
       "\n",
       "   air temp monthlies:number of obs  air temp monthlies:maximum temp (deg C)  \\\n",
       "0                               NaN                                      NaN   \n",
       "1                              31.0                                     35.0   \n",
       "2                              28.0                                     18.0   \n",
       "3                              23.0                                     20.0   \n",
       "4                              25.0                                     42.0   \n",
       "\n",
       "              ...              dissolved oxygens:measured at  \\\n",
       "0             ...                                        NaN   \n",
       "1             ...                                        NaN   \n",
       "2             ...                                        NaN   \n",
       "3             ...                                        NaN   \n",
       "4             ...                                        NaN   \n",
       "\n",
       "   dissolved oxygens:water body state  \\\n",
       "0                                 NaN   \n",
       "1                                 NaN   \n",
       "2                                 NaN   \n",
       "3                                 NaN   \n",
       "4                                 NaN   \n",
       "\n",
       "  dissolved oxygens:dissolved oxygen via kit (mgl)  \\\n",
       "0                                              NaN   \n",
       "1                                              NaN   \n",
       "2                                              NaN   \n",
       "3                                              NaN   \n",
       "4                                              NaN   \n",
       "\n",
       "   dissolved oxygens:dissolved oxygen via probe (mgl)  \\\n",
       "0                                                NaN    \n",
       "1                                                NaN    \n",
       "2                                                NaN    \n",
       "3                                                NaN    \n",
       "4                                                NaN    \n",
       "\n",
       "   dissolved oxygens:salinity via dokit (ppt)  \\\n",
       "0                                         NaN   \n",
       "1                                         NaN   \n",
       "2                                         NaN   \n",
       "3                                         NaN   \n",
       "4                                         NaN   \n",
       "\n",
       "   dissolved oxygens:oxygen kit mfg  dissolved oxygens:oxygen kit model  \\\n",
       "0                               NaN                                 NaN   \n",
       "1                               NaN                                 NaN   \n",
       "2                               NaN                                 NaN   \n",
       "3                               NaN                                 NaN   \n",
       "4                               NaN                                 NaN   \n",
       "\n",
       "   dissolved oxygens:oxygen probe mfg  dissolved oxygens:oxygen probe model  \\\n",
       "0                                 NaN                                   NaN   \n",
       "1                                 NaN                                   NaN   \n",
       "2                                 NaN                                   NaN   \n",
       "3                                 NaN                                   NaN   \n",
       "4                                 NaN                                   NaN   \n",
       "\n",
       "   dissolved oxygens:comments  \n",
       "0                         NaN  \n",
       "1                         NaN  \n",
       "2                         NaN  \n",
       "3                         NaN  \n",
       "4                         NaN  \n",
       "\n",
       "[5 rows x 71 columns]"
      ]
     },
     "execution_count": 6,
     "metadata": {},
     "output_type": "execute_result"
    }
   ],
   "source": [
    "a=pd.read_csv('seattle.csv')\n",
    "a.head()"
   ]
  },
  {
   "cell_type": "code",
   "execution_count": 7,
   "metadata": {},
   "outputs": [
    {
     "data": {
      "text/plain": [
       "org_name                                                    0\n",
       " site_name                                                  0\n",
       " latitude                                                   0\n",
       " longitude                                                  0\n",
       " elevation                                                  0\n",
       " measured_on                                                0\n",
       " air temp monthlies:averaged month                        163\n",
       "air temp monthlies:number of days reported                163\n",
       "air temp monthlies:number of obs                          163\n",
       "air temp monthlies:maximum temp (deg C)                   163\n",
       "air temp monthlies:minimum temp (deg C)                   163\n",
       "air temp monthlies:average temp (deg C)                   163\n",
       "humidity monthlies:averaged month                         295\n",
       "humidity monthlies:number of days reported                295\n",
       "humidity monthlies:number of obs                          295\n",
       "humidity monthlies:max relative humidity (%)              295\n",
       "humidity monthlies:min relative humidity (%)              295\n",
       "humidity monthlies:average relative humidity (%)          295\n",
       "humidity monthlies:maximum dewpoint (deg C)               295\n",
       "humidity monthlies:minimum dewpoint (deg C)               295\n",
       "humidity monthlies:average dewpoint (deg C)               295\n",
       "vegatation covers:measured on                             356\n",
       "vegatation covers:canopy cover observations count         360\n",
       "vegatation covers:canopy cover plus count                 358\n",
       "vegatation covers:canopy cover minus count                360\n",
       "vegatation covers:canopy cover tree count                 368\n",
       "vegatation covers:canopy cover shrub count                368\n",
       "vegatation covers:canopy cover deciduous count            368\n",
       "vegatation covers:canopy cover evergreen count            368\n",
       "vegatation covers:canopy cover plus (%)                   360\n",
       "                                                         ... \n",
       "vegatation covers:ground cover other count                369\n",
       "vegatation covers:ground cover shrub count                369\n",
       "vegatation covers:ground cover dwarf shrub count          369\n",
       "vegatation covers:ground cover plus (%)                   360\n",
       "vegatation covers:ground cover green (%)                  360\n",
       "vegatation covers:ground cover brown (%)                  360\n",
       "vegatation covers:ground cover graminoid (%)              369\n",
       "vegatation covers:ground cover forb (%)                   369\n",
       "vegatation covers:ground cover other (%)                  369\n",
       "vegatation covers:ground cover shrub (%)                  369\n",
       "vegatation covers:ground cover dwarf shrub (%)            369\n",
       "vegatation covers:shrub cover observations count          369\n",
       "vegatation covers:shrub cover plus count                  369\n",
       "vegatation covers:shrub cover minus count                 369\n",
       "vegatation covers:dwarf shrub cover observations count    369\n",
       "vegatation covers:dwarf shrub cover plus count            369\n",
       "vegatation covers:dwarf shrub cover minus count           369\n",
       "vegatation covers:shrub cover plus (%)                    369\n",
       "vegatation covers:dwarf shrub cover plus (%)              369\n",
       "vegatation covers:comments                                369\n",
       "dissolved oxygens:measured at                             293\n",
       "dissolved oxygens:water body state                        293\n",
       "dissolved oxygens:dissolved oxygen via kit (mgl)          293\n",
       "dissolved oxygens:dissolved oxygen via probe (mgl)        369\n",
       "dissolved oxygens:salinity via dokit (ppt)                369\n",
       "dissolved oxygens:oxygen kit mfg                          309\n",
       "dissolved oxygens:oxygen kit model                        311\n",
       "dissolved oxygens:oxygen probe mfg                        369\n",
       "dissolved oxygens:oxygen probe model                      369\n",
       "dissolved oxygens:comments                                336\n",
       "Length: 71, dtype: int64"
      ]
     },
     "execution_count": 7,
     "metadata": {},
     "output_type": "execute_result"
    }
   ],
   "source": [
    "a.isnull().sum()"
   ]
  },
  {
   "cell_type": "code",
   "execution_count": 9,
   "metadata": {},
   "outputs": [
    {
     "data": {
      "text/plain": [
       "Index(['org_name', ' site_name', ' latitude', ' longitude', ' elevation',\n",
       "       ' measured_on', ' air temp monthlies:averaged month',\n",
       "       'air temp monthlies:number of days reported',\n",
       "       'air temp monthlies:number of obs',\n",
       "       'air temp monthlies:maximum temp (deg C)',\n",
       "       'air temp monthlies:minimum temp (deg C)',\n",
       "       'air temp monthlies:average temp (deg C)',\n",
       "       'humidity monthlies:averaged month',\n",
       "       'humidity monthlies:number of days reported',\n",
       "       'humidity monthlies:number of obs',\n",
       "       'humidity monthlies:max relative humidity (%)',\n",
       "       'humidity monthlies:min relative humidity (%)',\n",
       "       'humidity monthlies:average relative humidity (%)',\n",
       "       'humidity monthlies:maximum dewpoint (deg C)',\n",
       "       'humidity monthlies:minimum dewpoint (deg C)',\n",
       "       'humidity monthlies:average dewpoint (deg C)',\n",
       "       'vegatation covers:measured on',\n",
       "       'vegatation covers:canopy cover observations count',\n",
       "       'vegatation covers:canopy cover plus count',\n",
       "       'vegatation covers:canopy cover minus count',\n",
       "       'vegatation covers:canopy cover tree count',\n",
       "       'vegatation covers:canopy cover shrub count',\n",
       "       'vegatation covers:canopy cover deciduous count',\n",
       "       'vegatation covers:canopy cover evergreen count',\n",
       "       'vegatation covers:canopy cover plus (%)',\n",
       "       'vegatation covers:canopy cover tree (%)',\n",
       "       'vegatation covers:canopy cover shrub (%)',\n",
       "       'vegatation covers:canopy cover deciduous (%)',\n",
       "       'vegatation covers:canopy cover evergreen (%)',\n",
       "       'vegatation covers:ground cover observations count',\n",
       "       'vegatation covers:ground cover plus count',\n",
       "       'vegatation covers:ground cover minus count',\n",
       "       'vegatation covers:ground cover green count',\n",
       "       'vegatation covers:ground cover brown count',\n",
       "       'vegatation covers:ground cover graminoid count',\n",
       "       'vegatation covers:ground cover forb count',\n",
       "       'vegatation covers:ground cover other count',\n",
       "       'vegatation covers:ground cover shrub count',\n",
       "       'vegatation covers:ground cover dwarf shrub count',\n",
       "       'vegatation covers:ground cover plus (%)',\n",
       "       'vegatation covers:ground cover green (%)',\n",
       "       'vegatation covers:ground cover brown (%)',\n",
       "       'vegatation covers:ground cover graminoid (%)',\n",
       "       'vegatation covers:ground cover forb (%)',\n",
       "       'vegatation covers:ground cover other (%)',\n",
       "       'vegatation covers:ground cover shrub (%)',\n",
       "       'vegatation covers:ground cover dwarf shrub (%)',\n",
       "       'vegatation covers:shrub cover observations count',\n",
       "       'vegatation covers:shrub cover plus count',\n",
       "       'vegatation covers:shrub cover minus count',\n",
       "       'vegatation covers:dwarf shrub cover observations count',\n",
       "       'vegatation covers:dwarf shrub cover plus count',\n",
       "       'vegatation covers:dwarf shrub cover minus count',\n",
       "       'vegatation covers:shrub cover plus (%)',\n",
       "       'vegatation covers:dwarf shrub cover plus (%)',\n",
       "       'vegatation covers:comments', 'dissolved oxygens:measured at',\n",
       "       'dissolved oxygens:water body state',\n",
       "       'dissolved oxygens:dissolved oxygen via kit (mgl)',\n",
       "       'dissolved oxygens:dissolved oxygen via probe (mgl)',\n",
       "       'dissolved oxygens:salinity via dokit (ppt)',\n",
       "       'dissolved oxygens:oxygen kit mfg',\n",
       "       'dissolved oxygens:oxygen kit model',\n",
       "       'dissolved oxygens:oxygen probe mfg',\n",
       "       'dissolved oxygens:oxygen probe model', 'dissolved oxygens:comments'],\n",
       "      dtype='object')"
      ]
     },
     "execution_count": 9,
     "metadata": {},
     "output_type": "execute_result"
    }
   ],
   "source": [
    "a.columns"
   ]
  },
  {
   "cell_type": "code",
   "execution_count": 10,
   "metadata": {},
   "outputs": [
    {
     "data": {
      "text/plain": [
       "dtype('float64')"
      ]
     },
     "execution_count": 10,
     "metadata": {},
     "output_type": "execute_result"
    }
   ],
   "source": [
    "a[' latitude'].dtype"
   ]
  },
  {
   "cell_type": "code",
   "execution_count": 13,
   "metadata": {},
   "outputs": [],
   "source": [
    "a.rename(columns=lambda x: x.strip(), inplace=True)"
   ]
  },
  {
   "cell_type": "code",
   "execution_count": 15,
   "metadata": {},
   "outputs": [],
   "source": [
    "a.latitude=a.latitude.astype('str')"
   ]
  },
  {
   "cell_type": "code",
   "execution_count": 17,
   "metadata": {},
   "outputs": [],
   "source": [
    "a.longitude=a.longitude.astype('str')"
   ]
  },
  {
   "cell_type": "code",
   "execution_count": 18,
   "metadata": {},
   "outputs": [],
   "source": [
    "a.to_csv('seattle_download.csv',index=False)"
   ]
  },
  {
   "cell_type": "code",
   "execution_count": 21,
   "metadata": {},
   "outputs": [],
   "source": [
    "b=pd.read_csv('ghcn_site_detail.csv')"
   ]
  },
  {
   "cell_type": "code",
   "execution_count": 24,
   "metadata": {},
   "outputs": [],
   "source": [
    "def myfillna(series):\n",
    "    if series.dtype is pd.np.dtype(int):\n",
    "        return series.fillna('')\n",
    "    elif series.dtype is pd.np.dtype(float):\n",
    "        return series.fillna('')\n",
    "    else:\n",
    "        return series.fillna('NA')\n",
    "    "
   ]
  },
  {
   "cell_type": "code",
   "execution_count": 25,
   "metadata": {},
   "outputs": [],
   "source": [
    "b=b.apply(myfillna)"
   ]
  },
  {
   "cell_type": "code",
   "execution_count": 27,
   "metadata": {},
   "outputs": [],
   "source": [
    "c=pd.read_csv('ghcn_daily.csv')"
   ]
  },
  {
   "cell_type": "code",
   "execution_count": 28,
   "metadata": {},
   "outputs": [],
   "source": [
    "c=c.apply(myfillna)"
   ]
  },
  {
   "cell_type": "code",
   "execution_count": 29,
   "metadata": {},
   "outputs": [
    {
     "data": {
      "text/plain": [
       "Index(['station_id', 'date', 'temperature_c'], dtype='object')"
      ]
     },
     "execution_count": 29,
     "metadata": {},
     "output_type": "execute_result"
    }
   ],
   "source": [
    "c.columns"
   ]
  },
  {
   "cell_type": "code",
   "execution_count": 31,
   "metadata": {},
   "outputs": [],
   "source": [
    "df=pd.merge(b,c,on='station_id')"
   ]
  },
  {
   "cell_type": "code",
   "execution_count": 34,
   "metadata": {},
   "outputs": [
    {
     "data": {
      "text/html": [
       "<div>\n",
       "<style scoped>\n",
       "    .dataframe tbody tr th:only-of-type {\n",
       "        vertical-align: middle;\n",
       "    }\n",
       "\n",
       "    .dataframe tbody tr th {\n",
       "        vertical-align: top;\n",
       "    }\n",
       "\n",
       "    .dataframe thead th {\n",
       "        text-align: right;\n",
       "    }\n",
       "</style>\n",
       "<table border=\"1\" class=\"dataframe\">\n",
       "  <thead>\n",
       "    <tr style=\"text-align: right;\">\n",
       "      <th></th>\n",
       "      <th>station_id</th>\n",
       "      <th>station_name</th>\n",
       "      <th>latitude</th>\n",
       "      <th>longitude</th>\n",
       "      <th>elevation_m</th>\n",
       "      <th>country</th>\n",
       "      <th>date</th>\n",
       "      <th>temperature_c</th>\n",
       "    </tr>\n",
       "  </thead>\n",
       "  <tbody>\n",
       "    <tr>\n",
       "      <th>0</th>\n",
       "      <td>2799</td>\n",
       "      <td>Missing Station ID - AQ000914188</td>\n",
       "      <td>-999.0</td>\n",
       "      <td>-999.0</td>\n",
       "      <td>-999.0</td>\n",
       "      <td>American Samoa [United States]</td>\n",
       "      <td>1955.458</td>\n",
       "      <td>25.920</td>\n",
       "    </tr>\n",
       "    <tr>\n",
       "      <th>1</th>\n",
       "      <td>2799</td>\n",
       "      <td>Missing Station ID - AQ000914188</td>\n",
       "      <td>-999.0</td>\n",
       "      <td>-999.0</td>\n",
       "      <td>-999.0</td>\n",
       "      <td>American Samoa [United States]</td>\n",
       "      <td>1955.542</td>\n",
       "      <td>25.627</td>\n",
       "    </tr>\n",
       "    <tr>\n",
       "      <th>2</th>\n",
       "      <td>2799</td>\n",
       "      <td>Missing Station ID - AQ000914188</td>\n",
       "      <td>-999.0</td>\n",
       "      <td>-999.0</td>\n",
       "      <td>-999.0</td>\n",
       "      <td>American Samoa [United States]</td>\n",
       "      <td>1955.625</td>\n",
       "      <td>26.197</td>\n",
       "    </tr>\n",
       "    <tr>\n",
       "      <th>3</th>\n",
       "      <td>2799</td>\n",
       "      <td>Missing Station ID - AQ000914188</td>\n",
       "      <td>-999.0</td>\n",
       "      <td>-999.0</td>\n",
       "      <td>-999.0</td>\n",
       "      <td>American Samoa [United States]</td>\n",
       "      <td>1955.708</td>\n",
       "      <td>24.230</td>\n",
       "    </tr>\n",
       "    <tr>\n",
       "      <th>4</th>\n",
       "      <td>2799</td>\n",
       "      <td>Missing Station ID - AQ000914188</td>\n",
       "      <td>-999.0</td>\n",
       "      <td>-999.0</td>\n",
       "      <td>-999.0</td>\n",
       "      <td>American Samoa [United States]</td>\n",
       "      <td>1955.792</td>\n",
       "      <td>23.761</td>\n",
       "    </tr>\n",
       "  </tbody>\n",
       "</table>\n",
       "</div>"
      ],
      "text/plain": [
       "   station_id                              station_name  latitude  longitude  \\\n",
       "0        2799  Missing Station ID - AQ000914188            -999.0     -999.0   \n",
       "1        2799  Missing Station ID - AQ000914188            -999.0     -999.0   \n",
       "2        2799  Missing Station ID - AQ000914188            -999.0     -999.0   \n",
       "3        2799  Missing Station ID - AQ000914188            -999.0     -999.0   \n",
       "4        2799  Missing Station ID - AQ000914188            -999.0     -999.0   \n",
       "\n",
       "   elevation_m                                   country      date  \\\n",
       "0       -999.0  American Samoa [United States]            1955.458   \n",
       "1       -999.0  American Samoa [United States]            1955.542   \n",
       "2       -999.0  American Samoa [United States]            1955.625   \n",
       "3       -999.0  American Samoa [United States]            1955.708   \n",
       "4       -999.0  American Samoa [United States]            1955.792   \n",
       "\n",
       "   temperature_c  \n",
       "0         25.920  \n",
       "1         25.627  \n",
       "2         26.197  \n",
       "3         24.230  \n",
       "4         23.761  "
      ]
     },
     "execution_count": 34,
     "metadata": {},
     "output_type": "execute_result"
    }
   ],
   "source": [
    "df.head(5)"
   ]
  },
  {
   "cell_type": "code",
   "execution_count": 35,
   "metadata": {},
   "outputs": [],
   "source": [
    "df.to_csv('df_climate.csv',index=False)"
   ]
  },
  {
   "cell_type": "code",
   "execution_count": null,
   "metadata": {},
   "outputs": [],
   "source": []
  },
  {
   "cell_type": "code",
   "execution_count": 37,
   "metadata": {},
   "outputs": [],
   "source": [
    "climate=pd.read_csv('jena_climate_2009_2016.csv')"
   ]
  },
  {
   "cell_type": "code",
   "execution_count": 38,
   "metadata": {},
   "outputs": [
    {
     "data": {
      "text/plain": [
       "Index(['Date Time', 'p (mbar)', 'T (degC)', 'Tpot (K)', 'Tdew (degC)',\n",
       "       'rh (%)', 'VPmax (mbar)', 'VPact (mbar)', 'VPdef (mbar)', 'sh (g/kg)',\n",
       "       'H2OC (mmol/mol)', 'rho (g/m**3)', 'wv (m/s)', 'max. wv (m/s)',\n",
       "       'wd (deg)'],\n",
       "      dtype='object')"
      ]
     },
     "execution_count": 38,
     "metadata": {},
     "output_type": "execute_result"
    }
   ],
   "source": []
  },
  {
   "cell_type": "code",
   "execution_count": 46,
   "metadata": {},
   "outputs": [],
   "source": [
    "climate.rename(columns=lambda x: x.strip(), inplace=True)"
   ]
  },
  {
   "cell_type": "code",
   "execution_count": 40,
   "metadata": {},
   "outputs": [
    {
     "data": {
      "text/plain": [
       "Date Time          0\n",
       "p (mbar)           0\n",
       "T (degC)           0\n",
       "Tpot (K)           0\n",
       "Tdew (degC)        0\n",
       "rh (%)             0\n",
       "VPmax (mbar)       0\n",
       "VPact (mbar)       0\n",
       "VPdef (mbar)       0\n",
       "sh (g/kg)          0\n",
       "H2OC (mmol/mol)    0\n",
       "rho (g/m**3)       0\n",
       "wv (m/s)           0\n",
       "max. wv (m/s)      0\n",
       "wd (deg)           0\n",
       "dtype: int64"
      ]
     },
     "execution_count": 40,
     "metadata": {},
     "output_type": "execute_result"
    }
   ],
   "source": [
    "climate.isnull().sum()"
   ]
  },
  {
   "cell_type": "code",
   "execution_count": null,
   "metadata": {},
   "outputs": [],
   "source": [
    "#Remove NON ASCII characters\n",
    "climate.iloc[:,1]=climate.iloc[:,1].str.replace('[^a-zA-Z]', ' ')\n",
    "climate.iloc[:,2]=climate.iloc[:,2].str.replace('[^a-zA-Z]', ' ')\n",
    "climate.iloc[:,4]=climate.iloc[:,4].str.replace('[^a-zA-Z]', ' ')\n",
    "climate.iloc[:,5]=climate.iloc[:,5].str.replace('[^a-zA-Z]', ' ')\n",
    "climate.iloc[:,6]=climate.iloc[:,6].str.replace('[^a-zA-Z]', ' ')\n",
    "climate.iloc[:,7]=climate.iloc[:,7].str.replace('[^a-zA-Z]', ' ')\n",
    "climate.iloc[:,8]=climate.iloc[:,8].str.replace('[^a-zA-Z]', ' ')\n"
   ]
  },
  {
   "cell_type": "code",
   "execution_count": 93,
   "metadata": {},
   "outputs": [],
   "source": [
    "import string"
   ]
  },
  {
   "cell_type": "code",
   "execution_count": 98,
   "metadata": {},
   "outputs": [
    {
     "data": {
      "text/plain": [
       "dtype('O')"
      ]
     },
     "execution_count": 98,
     "metadata": {},
     "output_type": "execute_result"
    }
   ],
   "source": [
    "climate.a.dtype"
   ]
  },
  {
   "cell_type": "code",
   "execution_count": null,
   "metadata": {},
   "outputs": [],
   "source": [
    "#Remove unnecessary punctuations\n",
    "climate.iloc[:,1] = climate.iloc[:,1].apply(lambda x:''.join([i for i in x \n",
    "                                                  if i not in string.punctuation]))\n",
    "climate.iloc[:,2] = climate.iloc[:,2].apply(lambda x:''.join([i for i in x \n",
    "                                                  if i not in string.punctuation]))\n",
    "climate.iloc[:,4] = climate.iloc[:,4].apply(lambda x:''.join([i for i in x \n",
    "                                                  if i not in string.punctuation]))\n",
    "climate.iloc[:,5] = climate.iloc[:,5].apply(lambda x:''.join([i for i in x \n",
    "                                                  if i not in string.punctuation]))\n",
    "climate.iloc[:,6] = climate.iloc[:,6].apply(lambda x:''.join([i for i in x \n",
    "                                                  if i not in string.punctuation]))\n",
    "climate.iloc[:,7] = climate.iloc[:,7].apply(lambda x:''.join([i for i in x \n",
    "                                                  if i not in string.punctuation]))\n",
    "climate.iloc[:,8] = climate.iloc[:,8].apply(lambda x:''.join([i for i in x \n",
    "                                                  if i not in string.punctuation]))\n"
   ]
  },
  {
   "cell_type": "code",
   "execution_count": 99,
   "metadata": {},
   "outputs": [],
   "source": [
    "climate.a=pd.to_datetime(climate.a)"
   ]
  },
  {
   "cell_type": "code",
   "execution_count": 108,
   "metadata": {},
   "outputs": [
    {
     "data": {
      "text/plain": [
       "<matplotlib.axes._subplots.AxesSubplot at 0x24885162898>"
      ]
     },
     "execution_count": 108,
     "metadata": {},
     "output_type": "execute_result"
    },
    {
     "data": {
      "text/plain": [
       "Text(0.5,0,'Air density')"
      ]
     },
     "execution_count": 108,
     "metadata": {},
     "output_type": "execute_result"
    },
    {
     "data": {
      "text/plain": [
       "Text(0,0.5,'Month of the year')"
      ]
     },
     "execution_count": 108,
     "metadata": {},
     "output_type": "execute_result"
    },
    {
     "data": {
      "image/png": "[encoded data removed]",
      "text/plain": [
       "<Figure size 432x288 with 1 Axes>"
      ]
     },
     "metadata": {},
     "output_type": "display_data"
    }
   ],
   "source": [
    "climate.groupby(climate.a.dt.month).j.mean().plot(kind='bar')\n",
    "plt.xlabel('Air density')\n",
    "plt.ylabel('Month of the year')"
   ]
  },
  {
   "cell_type": "code",
   "execution_count": null,
   "metadata": {},
   "outputs": [],
   "source": []
  },
  {
   "cell_type": "code",
   "execution_count": null,
   "metadata": {},
   "outputs": [],
   "source": []
  },
  {
   "cell_type": "markdown",
   "metadata": {},
   "source": [
    "## Fitting model"
   ]
  },
  {
   "cell_type": "code",
   "execution_count": 41,
   "metadata": {},
   "outputs": [],
   "source": [
    "from scipy.stats import ttest_ind"
   ]
  },
  {
   "cell_type": "code",
   "execution_count": 42,
   "metadata": {},
   "outputs": [],
   "source": [
    "import statsmodels.formula.api as smf\n",
    "import random"
   ]
  },
  {
   "cell_type": "code",
   "execution_count": 47,
   "metadata": {},
   "outputs": [
    {
     "data": {
      "text/plain": [
       "Index(['Date Time', 'p (mbar)', 'T (degC)', 'Tpot (K)', 'Tdew (degC)',\n",
       "       'rh (%)', 'VPmax (mbar)', 'VPact (mbar)', 'VPdef (mbar)', 'sh (g/kg)',\n",
       "       'H2OC (mmol/mol)', 'rho (g/m**3)', 'wv (m/s)', 'max. wv (m/s)',\n",
       "       'wd (deg)'],\n",
       "      dtype='object')"
      ]
     },
     "execution_count": 47,
     "metadata": {},
     "output_type": "execute_result"
    }
   ],
   "source": [
    "climate.columns"
   ]
  },
  {
   "cell_type": "code",
   "execution_count": 55,
   "metadata": {},
   "outputs": [],
   "source": [
    "new_cols=['a','b','y','d','e','f','g','h','i','j','k','l','m','n','o']\n",
    "climate.rename(columns=dict(zip(climate.columns[0:], new_cols)),inplace=True)"
   ]
  },
  {
   "cell_type": "code",
   "execution_count": 86,
   "metadata": {},
   "outputs": [
    {
     "data": {
      "text/html": [
       "<table class=\"simpletable\">\n",
       "<caption>OLS Regression Results</caption>\n",
       "<tr>\n",
       "  <th>Dep. Variable:</th>            <td>y</td>        <th>  R-squared:         </th>  <td>   0.753</td>  \n",
       "</tr>\n",
       "<tr>\n",
       "  <th>Model:</th>                   <td>OLS</td>       <th>  Adj. R-squared:    </th>  <td>   0.753</td>  \n",
       "</tr>\n",
       "<tr>\n",
       "  <th>Method:</th>             <td>Least Squares</td>  <th>  F-statistic:       </th>  <td>1.281e+06</td> \n",
       "</tr>\n",
       "<tr>\n",
       "  <th>Date:</th>             <td>Sun, 21 Oct 2018</td> <th>  Prob (F-statistic):</th>   <td>  0.00</td>   \n",
       "</tr>\n",
       "<tr>\n",
       "  <th>Time:</th>                 <td>03:47:34</td>     <th>  Log-Likelihood:    </th> <td>-1.1990e+06</td>\n",
       "</tr>\n",
       "<tr>\n",
       "  <th>No. Observations:</th>      <td>420551</td>      <th>  AIC:               </th>  <td>2.398e+06</td> \n",
       "</tr>\n",
       "<tr>\n",
       "  <th>Df Residuals:</th>          <td>420549</td>      <th>  BIC:               </th>  <td>2.398e+06</td> \n",
       "</tr>\n",
       "<tr>\n",
       "  <th>Df Model:</th>              <td>     1</td>      <th>                     </th>      <td> </td>     \n",
       "</tr>\n",
       "<tr>\n",
       "  <th>Covariance Type:</th>      <td>nonrobust</td>    <th>                     </th>      <td> </td>     \n",
       "</tr>\n",
       "</table>\n",
       "<table class=\"simpletable\">\n",
       "<tr>\n",
       "      <td></td>         <th>coef</th>     <th>std err</th>      <th>t</th>      <th>P>|t|</th>  <th>[0.025</th>    <th>0.975]</th>  \n",
       "</tr>\n",
       "<tr>\n",
       "  <th>Intercept</th> <td>   -7.2030</td> <td>    0.016</td> <td> -448.289</td> <td> 0.000</td> <td>   -7.235</td> <td>   -7.172</td>\n",
       "</tr>\n",
       "<tr>\n",
       "  <th>h</th>         <td>    1.7468</td> <td>    0.002</td> <td> 1131.853</td> <td> 0.000</td> <td>    1.744</td> <td>    1.750</td>\n",
       "</tr>\n",
       "</table>\n",
       "<table class=\"simpletable\">\n",
       "<tr>\n",
       "  <th>Omnibus:</th>       <td>40371.126</td> <th>  Durbin-Watson:     </th> <td>   0.006</td> \n",
       "</tr>\n",
       "<tr>\n",
       "  <th>Prob(Omnibus):</th>  <td> 0.000</td>   <th>  Jarque-Bera (JB):  </th> <td>58784.766</td>\n",
       "</tr>\n",
       "<tr>\n",
       "  <th>Skew:</th>           <td> 0.751</td>   <th>  Prob(JB):          </th> <td>    0.00</td> \n",
       "</tr>\n",
       "<tr>\n",
       "  <th>Kurtosis:</th>       <td> 4.047</td>   <th>  Cond. No.          </th> <td>    26.1</td> \n",
       "</tr>\n",
       "</table><br/><br/>Warnings:<br/>[1] Standard Errors assume that the covariance matrix of the errors is correctly specified."
      ],
      "text/plain": [
       "<class 'statsmodels.iolib.summary.Summary'>\n",
       "\"\"\"\n",
       "                            OLS Regression Results                            \n",
       "==============================================================================\n",
       "Dep. Variable:                      y   R-squared:                       0.753\n",
       "Model:                            OLS   Adj. R-squared:                  0.753\n",
       "Method:                 Least Squares   F-statistic:                 1.281e+06\n",
       "Date:                Sun, 21 Oct 2018   Prob (F-statistic):               0.00\n",
       "Time:                        03:47:34   Log-Likelihood:            -1.1990e+06\n",
       "No. Observations:              420551   AIC:                         2.398e+06\n",
       "Df Residuals:                  420549   BIC:                         2.398e+06\n",
       "Df Model:                           1                                         \n",
       "Covariance Type:            nonrobust                                         \n",
       "==============================================================================\n",
       "                 coef    std err          t      P>|t|      [0.025      0.975]\n",
       "------------------------------------------------------------------------------\n",
       "Intercept     -7.2030      0.016   -448.289      0.000      -7.235      -7.172\n",
       "h              1.7468      0.002   1131.853      0.000       1.744       1.750\n",
       "==============================================================================\n",
       "Omnibus:                    40371.126   Durbin-Watson:                   0.006\n",
       "Prob(Omnibus):                  0.000   Jarque-Bera (JB):            58784.766\n",
       "Skew:                           0.751   Prob(JB):                         0.00\n",
       "Kurtosis:                       4.047   Cond. No.                         26.1\n",
       "==============================================================================\n",
       "\n",
       "Warnings:\n",
       "[1] Standard Errors assume that the covariance matrix of the errors is correctly specified.\n",
       "\"\"\""
      ]
     },
     "execution_count": 86,
     "metadata": {},
     "output_type": "execute_result"
    }
   ],
   "source": [
    "smf.ols(formula = 'y~h', data=climate).fit().summary()"
   ]
  },
  {
   "cell_type": "code",
   "execution_count": 91,
   "metadata": {},
   "outputs": [
    {
     "data": {
      "text/html": [
       "<table class=\"simpletable\">\n",
       "<caption>OLS Regression Results</caption>\n",
       "<tr>\n",
       "  <th>Dep. Variable:</th>            <td>y</td>        <th>  R-squared:         </th>  <td>   0.580</td>  \n",
       "</tr>\n",
       "<tr>\n",
       "  <th>Model:</th>                   <td>OLS</td>       <th>  Adj. R-squared:    </th>  <td>   0.580</td>  \n",
       "</tr>\n",
       "<tr>\n",
       "  <th>Method:</th>             <td>Least Squares</td>  <th>  F-statistic:       </th>  <td>5.814e+05</td> \n",
       "</tr>\n",
       "<tr>\n",
       "  <th>Date:</th>             <td>Sun, 21 Oct 2018</td> <th>  Prob (F-statistic):</th>   <td>  0.00</td>   \n",
       "</tr>\n",
       "<tr>\n",
       "  <th>Time:</th>                 <td>03:58:14</td>     <th>  Log-Likelihood:    </th> <td>-1.3104e+06</td>\n",
       "</tr>\n",
       "<tr>\n",
       "  <th>No. Observations:</th>      <td>420551</td>      <th>  AIC:               </th>  <td>2.621e+06</td> \n",
       "</tr>\n",
       "<tr>\n",
       "  <th>Df Residuals:</th>          <td>420549</td>      <th>  BIC:               </th>  <td>2.621e+06</td> \n",
       "</tr>\n",
       "<tr>\n",
       "  <th>Df Model:</th>              <td>     1</td>      <th>                     </th>      <td> </td>     \n",
       "</tr>\n",
       "<tr>\n",
       "  <th>Covariance Type:</th>      <td>nonrobust</td>    <th>                     </th>      <td> </td>     \n",
       "</tr>\n",
       "</table>\n",
       "<table class=\"simpletable\">\n",
       "<tr>\n",
       "      <td></td>         <th>coef</th>     <th>std err</th>      <th>t</th>      <th>P>|t|</th>  <th>[0.025</th>    <th>0.975]</th>  \n",
       "</tr>\n",
       "<tr>\n",
       "  <th>Intercept</th> <td>    4.1533</td> <td>    0.011</td> <td>  380.607</td> <td> 0.000</td> <td>    4.132</td> <td>    4.175</td>\n",
       "</tr>\n",
       "<tr>\n",
       "  <th>i</th>         <td>    1.3103</td> <td>    0.002</td> <td>  762.473</td> <td> 0.000</td> <td>    1.307</td> <td>    1.314</td>\n",
       "</tr>\n",
       "</table>\n",
       "<table class=\"simpletable\">\n",
       "<tr>\n",
       "  <th>Omnibus:</th>       <td>18406.648</td> <th>  Durbin-Watson:     </th> <td>   0.002</td> \n",
       "</tr>\n",
       "<tr>\n",
       "  <th>Prob(Omnibus):</th>  <td> 0.000</td>   <th>  Jarque-Bera (JB):  </th> <td>23680.791</td>\n",
       "</tr>\n",
       "<tr>\n",
       "  <th>Skew:</th>           <td>-0.459</td>   <th>  Prob(JB):          </th> <td>    0.00</td> \n",
       "</tr>\n",
       "<tr>\n",
       "  <th>Kurtosis:</th>       <td> 3.712</td>   <th>  Cond. No.          </th> <td>    8.32</td> \n",
       "</tr>\n",
       "</table><br/><br/>Warnings:<br/>[1] Standard Errors assume that the covariance matrix of the errors is correctly specified."
      ],
      "text/plain": [
       "<class 'statsmodels.iolib.summary.Summary'>\n",
       "\"\"\"\n",
       "                            OLS Regression Results                            \n",
       "==============================================================================\n",
       "Dep. Variable:                      y   R-squared:                       0.580\n",
       "Model:                            OLS   Adj. R-squared:                  0.580\n",
       "Method:                 Least Squares   F-statistic:                 5.814e+05\n",
       "Date:                Sun, 21 Oct 2018   Prob (F-statistic):               0.00\n",
       "Time:                        03:58:14   Log-Likelihood:            -1.3104e+06\n",
       "No. Observations:              420551   AIC:                         2.621e+06\n",
       "Df Residuals:                  420549   BIC:                         2.621e+06\n",
       "Df Model:                           1                                         \n",
       "Covariance Type:            nonrobust                                         \n",
       "==============================================================================\n",
       "                 coef    std err          t      P>|t|      [0.025      0.975]\n",
       "------------------------------------------------------------------------------\n",
       "Intercept      4.1533      0.011    380.607      0.000       4.132       4.175\n",
       "i              1.3103      0.002    762.473      0.000       1.307       1.314\n",
       "==============================================================================\n",
       "Omnibus:                    18406.648   Durbin-Watson:                   0.002\n",
       "Prob(Omnibus):                  0.000   Jarque-Bera (JB):            23680.791\n",
       "Skew:                          -0.459   Prob(JB):                         0.00\n",
       "Kurtosis:                       3.712   Cond. No.                         8.32\n",
       "==============================================================================\n",
       "\n",
       "Warnings:\n",
       "[1] Standard Errors assume that the covariance matrix of the errors is correctly specified.\n",
       "\"\"\""
      ]
     },
     "execution_count": 91,
     "metadata": {},
     "output_type": "execute_result"
    }
   ],
   "source": [
    "#Water vapour pressure deficit\n",
    "smf.ols(formula = 'y~i', data=climate).fit().summary()"
   ]
  },
  {
   "cell_type": "code",
   "execution_count": 110,
   "metadata": {},
   "outputs": [
    {
     "data": {
      "text/html": [
       "<table class=\"simpletable\">\n",
       "<caption>OLS Regression Results</caption>\n",
       "<tr>\n",
       "  <th>Dep. Variable:</th>            <td>y</td>        <th>  R-squared:         </th>  <td>   0.973</td>  \n",
       "</tr>\n",
       "<tr>\n",
       "  <th>Model:</th>                   <td>OLS</td>       <th>  Adj. R-squared:    </th>  <td>   0.973</td>  \n",
       "</tr>\n",
       "<tr>\n",
       "  <th>Method:</th>             <td>Least Squares</td>  <th>  F-statistic:       </th>  <td>3.760e+06</td> \n",
       "</tr>\n",
       "<tr>\n",
       "  <th>Date:</th>             <td>Sun, 21 Oct 2018</td> <th>  Prob (F-statistic):</th>   <td>  0.00</td>   \n",
       "</tr>\n",
       "<tr>\n",
       "  <th>Time:</th>                 <td>04:29:15</td>     <th>  Log-Likelihood:    </th> <td>-7.3501e+05</td>\n",
       "</tr>\n",
       "<tr>\n",
       "  <th>No. Observations:</th>      <td>420551</td>      <th>  AIC:               </th>  <td>1.470e+06</td> \n",
       "</tr>\n",
       "<tr>\n",
       "  <th>Df Residuals:</th>          <td>420546</td>      <th>  BIC:               </th>  <td>1.470e+06</td> \n",
       "</tr>\n",
       "<tr>\n",
       "  <th>Df Model:</th>              <td>     4</td>      <th>                     </th>      <td> </td>     \n",
       "</tr>\n",
       "<tr>\n",
       "  <th>Covariance Type:</th>      <td>nonrobust</td>    <th>                     </th>      <td> </td>     \n",
       "</tr>\n",
       "</table>\n",
       "<table class=\"simpletable\">\n",
       "<tr>\n",
       "      <td></td>         <th>coef</th>     <th>std err</th>      <th>t</th>      <th>P>|t|</th>  <th>[0.025</th>    <th>0.975]</th>  \n",
       "</tr>\n",
       "<tr>\n",
       "  <th>Intercept</th> <td>   97.8952</td> <td>    0.210</td> <td>  466.449</td> <td> 0.000</td> <td>   97.484</td> <td>   98.307</td>\n",
       "</tr>\n",
       "<tr>\n",
       "  <th>j</th>         <td> -134.9316</td> <td>    0.394</td> <td> -342.373</td> <td> 0.000</td> <td> -135.704</td> <td> -134.159</td>\n",
       "</tr>\n",
       "<tr>\n",
       "  <th>k</th>         <td>   85.3981</td> <td>    0.248</td> <td>  344.838</td> <td> 0.000</td> <td>   84.913</td> <td>   85.884</td>\n",
       "</tr>\n",
       "<tr>\n",
       "  <th>l</th>         <td>   -0.0832</td> <td>    0.000</td> <td> -523.364</td> <td> 0.000</td> <td>   -0.084</td> <td>   -0.083</td>\n",
       "</tr>\n",
       "<tr>\n",
       "  <th>i</th>         <td>    0.5301</td> <td>    0.001</td> <td>  752.461</td> <td> 0.000</td> <td>    0.529</td> <td>    0.531</td>\n",
       "</tr>\n",
       "</table>\n",
       "<table class=\"simpletable\">\n",
       "<tr>\n",
       "  <th>Omnibus:</th>       <td>26128.697</td> <th>  Durbin-Watson:     </th> <td>   0.222</td> \n",
       "</tr>\n",
       "<tr>\n",
       "  <th>Prob(Omnibus):</th>  <td> 0.000</td>   <th>  Jarque-Bera (JB):  </th> <td>54156.986</td>\n",
       "</tr>\n",
       "<tr>\n",
       "  <th>Skew:</th>           <td>-0.430</td>   <th>  Prob(JB):          </th> <td>    0.00</td> \n",
       "</tr>\n",
       "<tr>\n",
       "  <th>Kurtosis:</th>       <td> 4.533</td>   <th>  Cond. No.          </th> <td>2.72e+05</td> \n",
       "</tr>\n",
       "</table><br/><br/>Warnings:<br/>[1] Standard Errors assume that the covariance matrix of the errors is correctly specified.<br/>[2] The condition number is large, 2.72e+05. This might indicate that there are<br/>strong multicollinearity or other numerical problems."
      ],
      "text/plain": [
       "<class 'statsmodels.iolib.summary.Summary'>\n",
       "\"\"\"\n",
       "                            OLS Regression Results                            \n",
       "==============================================================================\n",
       "Dep. Variable:                      y   R-squared:                       0.973\n",
       "Model:                            OLS   Adj. R-squared:                  0.973\n",
       "Method:                 Least Squares   F-statistic:                 3.760e+06\n",
       "Date:                Sun, 21 Oct 2018   Prob (F-statistic):               0.00\n",
       "Time:                        04:29:15   Log-Likelihood:            -7.3501e+05\n",
       "No. Observations:              420551   AIC:                         1.470e+06\n",
       "Df Residuals:                  420546   BIC:                         1.470e+06\n",
       "Df Model:                           4                                         \n",
       "Covariance Type:            nonrobust                                         \n",
       "==============================================================================\n",
       "                 coef    std err          t      P>|t|      [0.025      0.975]\n",
       "------------------------------------------------------------------------------\n",
       "Intercept     97.8952      0.210    466.449      0.000      97.484      98.307\n",
       "j           -134.9316      0.394   -342.373      0.000    -135.704    -134.159\n",
       "k             85.3981      0.248    344.838      0.000      84.913      85.884\n",
       "l             -0.0832      0.000   -523.364      0.000      -0.084      -0.083\n",
       "i              0.5301      0.001    752.461      0.000       0.529       0.531\n",
       "==============================================================================\n",
       "Omnibus:                    26128.697   Durbin-Watson:                   0.222\n",
       "Prob(Omnibus):                  0.000   Jarque-Bera (JB):            54156.986\n",
       "Skew:                          -0.430   Prob(JB):                         0.00\n",
       "Kurtosis:                       4.533   Cond. No.                     2.72e+05\n",
       "==============================================================================\n",
       "\n",
       "Warnings:\n",
       "[1] Standard Errors assume that the covariance matrix of the errors is correctly specified.\n",
       "[2] The condition number is large, 2.72e+05. This might indicate that there are\n",
       "strong multicollinearity or other numerical problems.\n",
       "\"\"\""
      ]
     },
     "execution_count": 110,
     "metadata": {},
     "output_type": "execute_result"
    }
   ],
   "source": [
    "#Humidity\n",
    "#Air density\n",
    "#Water vapour concentration\n",
    "#Water vapour pressure deficit\n",
    "m=smf.ols(formula = 'y~j+k+l+i', data=climate).fit()\n",
    "m.summary()"
   ]
  },
  {
   "cell_type": "markdown",
   "metadata": {},
   "source": [
    "### As these variables have the highest R^2 squared value which is 0.976, these features can be selected for the prediction of futuristic climate values."
   ]
  },
  {
   "cell_type": "code",
   "execution_count": 109,
   "metadata": {},
   "outputs": [
    {
     "data": {
      "text/html": [
       "<div>\n",
       "<style scoped>\n",
       "    .dataframe tbody tr th:only-of-type {\n",
       "        vertical-align: middle;\n",
       "    }\n",
       "\n",
       "    .dataframe tbody tr th {\n",
       "        vertical-align: top;\n",
       "    }\n",
       "\n",
       "    .dataframe thead th {\n",
       "        text-align: right;\n",
       "    }\n",
       "</style>\n",
       "<table border=\"1\" class=\"dataframe\">\n",
       "  <thead>\n",
       "    <tr style=\"text-align: right;\">\n",
       "      <th></th>\n",
       "      <th>a</th>\n",
       "      <th>b</th>\n",
       "      <th>y</th>\n",
       "      <th>d</th>\n",
       "      <th>e</th>\n",
       "      <th>f</th>\n",
       "      <th>g</th>\n",
       "      <th>h</th>\n",
       "      <th>i</th>\n",
       "      <th>j</th>\n",
       "      <th>k</th>\n",
       "      <th>l</th>\n",
       "      <th>m</th>\n",
       "      <th>n</th>\n",
       "      <th>o</th>\n",
       "    </tr>\n",
       "  </thead>\n",
       "  <tbody>\n",
       "    <tr>\n",
       "      <th>0</th>\n",
       "      <td>2009-01-01 00:10:00</td>\n",
       "      <td>996.52</td>\n",
       "      <td>-8.02</td>\n",
       "      <td>265.40</td>\n",
       "      <td>-8.90</td>\n",
       "      <td>93.3</td>\n",
       "      <td>3.33</td>\n",
       "      <td>3.11</td>\n",
       "      <td>0.22</td>\n",
       "      <td>1.94</td>\n",
       "      <td>3.12</td>\n",
       "      <td>1307.75</td>\n",
       "      <td>1.03</td>\n",
       "      <td>1.75</td>\n",
       "      <td>152.3</td>\n",
       "    </tr>\n",
       "    <tr>\n",
       "      <th>1</th>\n",
       "      <td>2009-01-01 00:20:00</td>\n",
       "      <td>996.57</td>\n",
       "      <td>-8.41</td>\n",
       "      <td>265.01</td>\n",
       "      <td>-9.28</td>\n",
       "      <td>93.4</td>\n",
       "      <td>3.23</td>\n",
       "      <td>3.02</td>\n",
       "      <td>0.21</td>\n",
       "      <td>1.89</td>\n",
       "      <td>3.03</td>\n",
       "      <td>1309.80</td>\n",
       "      <td>0.72</td>\n",
       "      <td>1.50</td>\n",
       "      <td>136.1</td>\n",
       "    </tr>\n",
       "    <tr>\n",
       "      <th>2</th>\n",
       "      <td>2009-01-01 00:30:00</td>\n",
       "      <td>996.53</td>\n",
       "      <td>-8.51</td>\n",
       "      <td>264.91</td>\n",
       "      <td>-9.31</td>\n",
       "      <td>93.9</td>\n",
       "      <td>3.21</td>\n",
       "      <td>3.01</td>\n",
       "      <td>0.20</td>\n",
       "      <td>1.88</td>\n",
       "      <td>3.02</td>\n",
       "      <td>1310.24</td>\n",
       "      <td>0.19</td>\n",
       "      <td>0.63</td>\n",
       "      <td>171.6</td>\n",
       "    </tr>\n",
       "    <tr>\n",
       "      <th>3</th>\n",
       "      <td>2009-01-01 00:40:00</td>\n",
       "      <td>996.51</td>\n",
       "      <td>-8.31</td>\n",
       "      <td>265.12</td>\n",
       "      <td>-9.07</td>\n",
       "      <td>94.2</td>\n",
       "      <td>3.26</td>\n",
       "      <td>3.07</td>\n",
       "      <td>0.19</td>\n",
       "      <td>1.92</td>\n",
       "      <td>3.08</td>\n",
       "      <td>1309.19</td>\n",
       "      <td>0.34</td>\n",
       "      <td>0.50</td>\n",
       "      <td>198.0</td>\n",
       "    </tr>\n",
       "  </tbody>\n",
       "</table>\n",
       "</div>"
      ],
      "text/plain": [
       "                    a       b     y       d     e     f     g     h     i  \\\n",
       "0 2009-01-01 00:10:00  996.52 -8.02  265.40 -8.90  93.3  3.33  3.11  0.22   \n",
       "1 2009-01-01 00:20:00  996.57 -8.41  265.01 -9.28  93.4  3.23  3.02  0.21   \n",
       "2 2009-01-01 00:30:00  996.53 -8.51  264.91 -9.31  93.9  3.21  3.01  0.20   \n",
       "3 2009-01-01 00:40:00  996.51 -8.31  265.12 -9.07  94.2  3.26  3.07  0.19   \n",
       "\n",
       "      j     k        l     m     n      o  \n",
       "0  1.94  3.12  1307.75  1.03  1.75  152.3  \n",
       "1  1.89  3.03  1309.80  0.72  1.50  136.1  \n",
       "2  1.88  3.02  1310.24  0.19  0.63  171.6  \n",
       "3  1.92  3.08  1309.19  0.34  0.50  198.0  "
      ]
     },
     "execution_count": 109,
     "metadata": {},
     "output_type": "execute_result"
    }
   ],
   "source": [
    "climate.head(4)"
   ]
  },
  {
   "cell_type": "code",
   "execution_count": 112,
   "metadata": {},
   "outputs": [
    {
     "data": {
      "text/plain": [
       "a    datetime64[ns]\n",
       "b           float64\n",
       "y           float64\n",
       "d           float64\n",
       "e           float64\n",
       "f           float64\n",
       "g           float64\n",
       "h           float64\n",
       "i           float64\n",
       "j           float64\n",
       "k           float64\n",
       "l           float64\n",
       "m           float64\n",
       "n           float64\n",
       "o           float64\n",
       "dtype: object"
      ]
     },
     "execution_count": 112,
     "metadata": {},
     "output_type": "execute_result"
    }
   ],
   "source": [
    "climate.dtypes"
   ]
  },
  {
   "cell_type": "code",
   "execution_count": 116,
   "metadata": {},
   "outputs": [
    {
     "data": {
      "text/plain": [
       "420551"
      ]
     },
     "execution_count": 116,
     "metadata": {},
     "output_type": "execute_result"
    }
   ],
   "source": [
    "n=m.predict()\n",
    "len(n)"
   ]
  },
  {
   "cell_type": "code",
   "execution_count": 120,
   "metadata": {},
   "outputs": [
    {
     "data": {
      "text/plain": [
       "0         0.018423\n",
       "1         0.011171\n",
       "2         0.016705\n",
       "3         0.012793\n",
       "4         0.021091\n",
       "5         0.017106\n",
       "6         0.009100\n",
       "7         0.014098\n",
       "8         0.011433\n",
       "9         0.016336\n",
       "10        0.017293\n",
       "11        0.019299\n",
       "12        0.022649\n",
       "13        0.008923\n",
       "14        0.018579\n",
       "15        0.023577\n",
       "16        0.006733\n",
       "17        0.017238\n",
       "18        0.008840\n",
       "19        0.010727\n",
       "20        0.010557\n",
       "21        0.018711\n",
       "22        0.017337\n",
       "23        0.009214\n",
       "24        0.021500\n",
       "25        0.012175\n",
       "26        0.020645\n",
       "27        0.013346\n",
       "28        0.006777\n",
       "29        0.013915\n",
       "            ...   \n",
       "420521   -0.011964\n",
       "420522   -0.008119\n",
       "420523   -0.016206\n",
       "420524   -0.013920\n",
       "420525   -0.008998\n",
       "420526   -0.010305\n",
       "420527   -0.010203\n",
       "420528   -0.012750\n",
       "420529   -0.012044\n",
       "420530   -0.016145\n",
       "420531   -0.002361\n",
       "420532   -0.008769\n",
       "420533   -0.008113\n",
       "420534   -0.012046\n",
       "420535   -0.003931\n",
       "420536   -0.012498\n",
       "420537   -0.003742\n",
       "420538   -0.015232\n",
       "420539   -0.003881\n",
       "420540   -0.004824\n",
       "420541   -0.006621\n",
       "420542    0.002801\n",
       "420543   -0.010626\n",
       "420544   -0.011240\n",
       "420545   -0.003908\n",
       "420546   -0.011882\n",
       "420547   -0.011182\n",
       "420548   -0.018798\n",
       "420549   -0.001298\n",
       "420550   -0.000279\n",
       "Name: y, Length: 420551, dtype: float64"
      ]
     },
     "execution_count": 120,
     "metadata": {},
     "output_type": "execute_result"
    }
   ],
   "source": [
    "#Error rate in predictions\n",
    "error=(n-climate.y)/100\n",
    "error"
   ]
  },
  {
   "cell_type": "code",
   "execution_count": 121,
   "metadata": {},
   "outputs": [
    {
     "data": {
      "text/plain": [
       "-9.805504240030448e-15"
      ]
     },
     "execution_count": 121,
     "metadata": {},
     "output_type": "execute_result"
    }
   ],
   "source": [
    "error.mean()"
   ]
  },
  {
   "cell_type": "code",
   "execution_count": null,
   "metadata": {},
   "outputs": [],
   "source": []
  }
 ],
 "metadata": {
  "kernelspec": {
   "display_name": "Python 3",
   "language": "python",
   "name": "python3"
  },
  "language_info": {
   "codemirror_mode": {
    "name": "ipython",
    "version": 3
   },
   "file_extension": ".py",
   "mimetype": "text/x-python",
   "name": "python",
   "nbconvert_exporter": "python",
   "pygments_lexer": "ipython3",
   "version": "3.6.5"
  }
 },
 "nbformat": 4,
 "nbformat_minor": 2
}
